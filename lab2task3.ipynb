{
  "nbformat": 4,
  "nbformat_minor": 0,
  "metadata": {
    "colab": {
      "provenance": [],

      "authorship_tag": "ABX9TyOxLArFKKaRasbZNh+RsB8h",

      "include_colab_link": true
    },
    "kernelspec": {
      "name": "python3",
      "display_name": "Python 3"
    },
    "language_info": {
      "name": "python"
    }
  },
  "cells": [
    {
      "cell_type": "markdown",
      "metadata": {
        "id": "view-in-github",
        "colab_type": "text"
      },
      "source": [

        "<a href=\"https://colab.research.google.com/github/jwojcikow127/PYTHONNN/blob/bartek/lab2task3.ipynb\" target=\"_parent\"><img src=\"https://colab.research.google.com/assets/colab-badge.svg\" alt=\"Open In Colab\"/></a>"
      ]
    },
    {
      "cell_type": "code",
      "execution_count": 1,
      "metadata": {
        "id": "kEC7j5oGTD6x"
      },
      "outputs": [],
      "source": [
        "def f1():\n",
        "  print(\"Bartek\")"
      ]
    },
    {
      "cell_type": "code",
      "source": [
        "def f2 ():\n",
        "  return\n",
        "\n"
      ],
      "metadata": {
        "id": "V7TFeoOXTLHF"
      },
      "execution_count": null,
      "outputs": []
    },
    {
      "cell_type": "code",
      "source": [
        "def f3 ():\n",
        "  print(\"kubus\")\n",
        "  return"
      ],
      "metadata": {
        "id": "PkgBKzZZTNYc"
      },

      "execution_count": null,
      "outputs": []
    },
    {
      "cell_type": "code",
      "source": [
        "def f4 ():\n",
        "  return\n"
      ],
      "metadata": {
        "id": "rkZBE6HBTPQ8"
      },

      "execution_count": null,

      "outputs": []
    },
    {
      "cell_type": "code",
      "source": [
        "f1()\n",
        "f2()\n",
        "f3()\n",
        "f4()"
      ],
      "metadata": {
        "id": "rAzwkfdyTSLM",
        "outputId": "23a2030f-2f9c-40b0-d2d0-0e65e980a754",
        "colab": {
          "base_uri": "https://localhost:8080/"
        }
      },

      "execution_count": null,
      "outputs": []
    }
  ]
}